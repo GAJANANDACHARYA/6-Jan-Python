{
 "cells": [
  {
   "cell_type": "markdown",
   "id": "99c996e7",
   "metadata": {},
   "source": [
    "# Guess The Number"
   ]
  },
  {
   "cell_type": "code",
   "execution_count": null,
   "id": "c29b0d52",
   "metadata": {},
   "outputs": [],
   "source": [
    "s_num=9\n",
    "g_count=0\n",
    "g_limit =3\n",
    "while g_count<g_limit:\n",
    "    guess=int(input(\"Guess: \"))\n",
    "    g_count+=1\n",
    "    if guess==s_num:\n",
    "        print(\"You Won\")\n",
    "        break\n",
    "else:\n",
    "    print(\"Sorry You Failed\")"
   ]
  },
  {
   "cell_type": "markdown",
   "id": "a220bdf6",
   "metadata": {},
   "source": [
    "# Car Game"
   ]
  },
  {
   "cell_type": "code",
   "execution_count": null,
   "id": "7b657ed0",
   "metadata": {},
   "outputs": [],
   "source": [
    "command=\"\"\n",
    "started=False\n",
    "while True:\n",
    "    command=input(\"> \").lower()\n",
    "    if command==\"start\":\n",
    "        if started:\n",
    "            print(\"Car is already started\")\n",
    "        else:\n",
    "            started =True\n",
    "            print(\"Car Started\")\n",
    "    elif command ==\"stop\":\n",
    "        if not started:\n",
    "            print(\"Car is already stopped\")\n",
    "        else:\n",
    "            started=False\n",
    "            print(\"Car Stop\")\n",
    "    elif command==\"help\":\n",
    "        print(\"\"\"\n",
    "Start-to start the car\n",
    "stop-to stop the car\n",
    "quit-to quit\n",
    "        \"\"\")\n",
    "    elif command==\"quit\":\n",
    "        break\n",
    "    else:\n",
    "        print(\"Sorry\")"
   ]
  }
 ],
 "metadata": {
  "kernelspec": {
   "display_name": "Python 3 (ipykernel)",
   "language": "python",
   "name": "python3"
  },
  "language_info": {
   "codemirror_mode": {
    "name": "ipython",
    "version": 3
   },
   "file_extension": ".py",
   "mimetype": "text/x-python",
   "name": "python",
   "nbconvert_exporter": "python",
   "pygments_lexer": "ipython3",
   "version": "3.11.3"
  }
 },
 "nbformat": 4,
 "nbformat_minor": 5
}
